{
 "metadata": {
  "name": "",
  "signature": "sha256:efb45cd02e5242e5d9c956c43003ae0fde95653dffa4db5249cc6e7d5482505f"
 },
 "nbformat": 3,
 "nbformat_minor": 0,
 "worksheets": [
  {
   "cells": [
    {
     "cell_type": "markdown",
     "metadata": {},
     "source": [
      "### The Monty Hall Monte Carlo simulator, or as I like to call it, ###\n",
      "# 'monty_monte' #\n",
      "By David Taylor, a.k.a. Prooffreader\n",
      "\n",
      "See an article about the Monty Hall Problem with a nice animated gif at:\n",
      "\n"
     ]
    },
    {
     "cell_type": "code",
     "collapsed": false,
     "input": [
      "def monty_monte(doors, goats, reveals, trials):\n",
      "    import random\n",
      "    random.seed()\n",
      "    assert goats > 1, \"There must be at least two goats\"\n",
      "    assert doors > 2, \"There must be at least three doors\"\n",
      "    assert doors - goats > 0, \"There must be at least one car\"\n",
      "    assert goats - reveals > 0, \"There must be more goats than reveals\"\n",
      "    won_if_stick, won_if_switch = 0, 0\n",
      "    for trial in range(trials):\n",
      "        prize_list = []\n",
      "        for i in range(goats): prize_list.append('goat')\n",
      "        for i in range(doors - goats): prize_list.append('car')\n",
      "        # randomize list in place instead of picking members at random; it amounts to the \n",
      "        # same thing, but the manipulations are easier\n",
      "        random.shuffle(prize_list)\n",
      "        # first you pick a random door (# 1, index 0, since the list order is now random)\n",
      "        # if it's a car, count it as a win if you stick (don't change your selection)\n",
      "        # either way, take it out of the list, it's no longer in play\n",
      "        if prize_list[0] == 'car': won_if_stick += 1\n",
      "        del prize_list[0]\n",
      "        # now Monty must reveal one (or possibly more) goat(s). \n",
      "        # we iterate through the list until we find one, then delete it.\n",
      "        # we repeat this the number of times specified in the reveals variable\n",
      "        for reveal in range(reveals):\n",
      "            monty_choice = 0\n",
      "            while prize_list[monty_choice] != 'goat':\n",
      "                monty_choice += 1\n",
      "            del prize_list[monty_choice]\n",
      "        # now you switch your choice to the first item in the list.\n",
      "        # Remember, we randomized the order earlier, so it's the same as choosing an item at random.\n",
      "        if prize_list[0] == 'car': won_if_switch += 1\n",
      "    print(\"Probability of winning if you stick:  {0}\".format((won_if_stick*1.0/trials)))\n",
      "    print(\"Probability of winning if you switch: {0}\".format(won_if_switch*1.0/trials))\n",
      "    print(\"Fold improvement: {0}\".format(round(won_if_switch*1.0/won_if_stick,3)))\n",
      "    \n",
      "monty_monte(3,2,1,1000)"
     ],
     "language": "python",
     "metadata": {},
     "outputs": [
      {
       "output_type": "stream",
       "stream": "stdout",
       "text": [
        "Probability of winning if you stick:  0.319\n",
        "Probability of winning if you switch: 0.681\n",
        "Fold improvement: 2.135\n"
       ]
      }
     ],
     "prompt_number": 1
    },
    {
     "cell_type": "code",
     "collapsed": false,
     "input": [
      "monty_monte(3,2,1,100000) # the classic variant"
     ],
     "language": "python",
     "metadata": {},
     "outputs": [
      {
       "output_type": "stream",
       "stream": "stdout",
       "text": [
        "Probability of winning if you stick:  0.33303\n",
        "Probability of winning if you switch: 0.66697\n",
        "Fold improvement: 2.003\n"
       ]
      }
     ],
     "prompt_number": 2
    },
    {
     "cell_type": "code",
     "collapsed": false,
     "input": [
      "monty_monte(100,99,1,10000) # often cited when trying to explain the Monty Hall problem"
     ],
     "language": "python",
     "metadata": {},
     "outputs": [
      {
       "output_type": "stream",
       "stream": "stdout",
       "text": [
        "Probability of winning if you stick:  0.0092\n",
        "Probability of winning if you switch: 0.0206\n",
        "Fold improvement: 2.239\n"
       ]
      }
     ],
     "prompt_number": 3
    },
    {
     "cell_type": "code",
     "collapsed": false,
     "input": [
      "monty_monte(6,4,2,10000) # six doors, four goats, two reveals, why not?"
     ],
     "language": "python",
     "metadata": {},
     "outputs": [
      {
       "output_type": "stream",
       "stream": "stdout",
       "text": [
        "Probability of winning if you stick:  0.3266\n",
        "Probability of winning if you switch: 0.8036\n",
        "Fold improvement: 2.461\n"
       ]
      }
     ],
     "prompt_number": 4
    },
    {
     "cell_type": "code",
     "collapsed": false,
     "input": [],
     "language": "python",
     "metadata": {},
     "outputs": []
    }
   ],
   "metadata": {}
  }
 ]
}
